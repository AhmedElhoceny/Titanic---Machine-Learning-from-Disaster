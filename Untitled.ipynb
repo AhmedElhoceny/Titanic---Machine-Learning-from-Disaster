{
 "cells": [
  {
   "cell_type": "code",
   "execution_count": 2,
   "id": "b562eb60-cf60-4c37-9855-aa5fe17de8ac",
   "metadata": {},
   "outputs": [],
   "source": [
    "import kagglehub\n",
    "from sklearn.impute import SimpleImputer\n",
    "import pandas as pd\n",
    "import os\n",
    "from sklearn.pipeline import Pipeline\n",
    "from sklearn.ensemble import RandomForestClassifier\n",
    "from sklearn.linear_model import LogisticRegression\n",
    "from sklearn.model_selection import train_test_split\n",
    "from sklearn.metrics import accuracy_score\n",
    "from sklearn.model_selection import GridSearchCV"
   ]
  },
  {
   "cell_type": "code",
   "execution_count": 3,
   "id": "41d59162-0b59-45de-b359-41b2ca021d47",
   "metadata": {},
   "outputs": [],
   "source": [
    "# Download latest version\n",
    "path = kagglehub.dataset_download(\"saddasdaasda/httpswww-kaggle-comctitanicdata\")\n",
    "# Ensure path points to a specific file\n",
    "if os.path.isdir(path):\n",
    "    # Assuming the dataset contains a single CSV file\n",
    "    files = [f for f in os.listdir(path) if f.endswith('.csv')]\n",
    "    if files:\n",
    "        path = os.path.join(path, files[0])\n",
    "    else:\n",
    "        raise FileNotFoundError(\"No CSV file found in the dataset directory.\")\n",
    "\n",
    "# load dataset into pandas dataframe\n",
    "df = pd.read_csv(path)"
   ]
  },
  {
   "cell_type": "code",
   "execution_count": 4,
   "id": "6829b399-94dd-4274-a46a-995c82e6c885",
   "metadata": {},
   "outputs": [],
   "source": [
    "imputer = SimpleImputer(strategy='mean')\n",
    "df['Age'] = imputer.fit_transform(df[['Age']])\n",
    "\n",
    "# remove Columns [PassengerId, Name , Ticket]\n",
    "df.drop(['PassengerId', 'Name', 'Ticket'], axis=1, inplace=True)\n",
    "\n",
    "# make label Encoding for Embarked Column\n",
    "df['Embarked'] = df['Embarked'].astype('category').cat.codes\n",
    "\n",
    "# make label Encoding for Sex Column\n",
    "df['Sex'] = df['Sex'].astype('category').cat.codes\n",
    "\n",
    "# Handle Cabin column: fill missing values and encode as category\n",
    "df['Cabin'] = df['Cabin'].fillna('Unknown').astype('category').cat.codes"
   ]
  },
  {
   "cell_type": "code",
   "execution_count": 5,
   "id": "8ba03ab5-847a-4737-9962-af272219661f",
   "metadata": {},
   "outputs": [],
   "source": [
    "# split data into train and test\n",
    "X = df.drop('Survived', axis=1)\n",
    "y = df['Survived']\n",
    "X_train, X_test, y_train, y_test = train_test_split(X, y, test_size=0.2, random_state=42)"
   ]
  },
  {
   "cell_type": "code",
   "execution_count": 6,
   "id": "3932d2e1-bcd9-4bbb-bce9-b00701f7158e",
   "metadata": {},
   "outputs": [],
   "source": [
    "# Define models to compare\n",
    "models = {\n",
    "    'RandomForest': RandomForestClassifier(),\n",
    "    'LogisticRegression': LogisticRegression(max_iter=1000)\n",
    "}\n",
    "\n",
    "# Define hyperparameter grids\n",
    "param_grids = {\n",
    "    'RandomForest': {\n",
    "        'model__n_estimators': [50, 100, 200],\n",
    "        'model__max_depth': [None, 10, 20],\n",
    "        'model__min_samples_split': [2, 5, 10]\n",
    "    },\n",
    "    'LogisticRegression': {\n",
    "        'model__C': [0.1, 1, 10],\n",
    "        'model__solver': ['lbfgs', 'liblinear']\n",
    "    }\n",
    "}"
   ]
  },
  {
   "cell_type": "code",
   "execution_count": 7,
   "id": "bbf28d31-b415-4bdb-893d-a401615e3a1b",
   "metadata": {},
   "outputs": [
    {
     "name": "stdout",
     "output_type": "stream",
     "text": [
      "Tuning hyperparameters for RandomForest...\n",
      "RandomForest Best Parameters: {'model__max_depth': None, 'model__min_samples_split': 10, 'model__n_estimators': 50}\n",
      "RandomForest Accuracy after tuning: 0.8268156424581006\n",
      "Sample Input:      Pclass  Sex   Age  SibSp  Parch  Fare  Cabin  Embarked\n",
      "492       1    1  55.0      0      0  30.5     64         2\n",
      "RandomForest Prediction: [0]\n",
      "Tuning hyperparameters for LogisticRegression...\n",
      "LogisticRegression Best Parameters: {'model__C': 0.1, 'model__solver': 'liblinear'}\n",
      "LogisticRegression Accuracy after tuning: 0.7821229050279329\n",
      "Sample Input:     Pclass  Sex  Age  SibSp  Parch     Fare  Cabin  Embarked\n",
      "43       2    0  3.0      1      2  41.5792    147         0\n",
      "LogisticRegression Prediction: [1]\n"
     ]
    }
   ],
   "source": [
    "# Perform hyperparameter tuning and compare models\n",
    "for model_name, model in models.items():\n",
    "    print(f\"Tuning hyperparameters for {model_name}...\")\n",
    "    pipeline = Pipeline([\n",
    "        ('model', model)\n",
    "    ])\n",
    "    grid_search = GridSearchCV(pipeline, param_grids[model_name], cv=5, scoring='accuracy', n_jobs=-1)\n",
    "    grid_search.fit(X_train, y_train)\n",
    "    \n",
    "    best_model = grid_search.best_estimator_\n",
    "    y_pred = best_model.predict(X_test)\n",
    "    accuracy = accuracy_score(y_test, y_pred)\n",
    "    print(f\"{model_name} Best Parameters: {grid_search.best_params_}\")\n",
    "    print(f\"{model_name} Accuracy after tuning: {accuracy}\")\n",
    "\n",
    "    # Test with sample input\n",
    "    sample_input = X_train.sample(1)\n",
    "    print(f\"Sample Input: {sample_input}\")\n",
    "    print(f\"{model_name} Prediction: {best_model.predict(sample_input)}\")"
   ]
  },
  {
   "cell_type": "code",
   "execution_count": null,
   "id": "a3e22333-2472-428c-95a3-d04f3ddd1ed8",
   "metadata": {},
   "outputs": [],
   "source": []
  }
 ],
 "metadata": {
  "kernelspec": {
   "display_name": "Python 3 (ipykernel)",
   "language": "python",
   "name": "python3"
  },
  "language_info": {
   "codemirror_mode": {
    "name": "ipython",
    "version": 3
   },
   "file_extension": ".py",
   "mimetype": "text/x-python",
   "name": "python",
   "nbconvert_exporter": "python",
   "pygments_lexer": "ipython3",
   "version": "3.13.0"
  }
 },
 "nbformat": 4,
 "nbformat_minor": 5
}

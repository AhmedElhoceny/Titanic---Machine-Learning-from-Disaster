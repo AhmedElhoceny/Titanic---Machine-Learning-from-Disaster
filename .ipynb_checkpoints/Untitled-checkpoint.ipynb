{
 "cells": [
  {
   "cell_type": "code",
   "execution_count": 3,
   "id": "b562eb60-cf60-4c37-9855-aa5fe17de8ac",
   "metadata": {},
   "outputs": [],
   "source": [
    "import kagglehub\n",
    "from sklearn.impute import SimpleImputer\n",
    "import pandas as pd\n",
    "import os\n",
    "from sklearn.pipeline import Pipeline\n",
    "from sklearn.ensemble import RandomForestClassifier\n",
    "from sklearn.linear_model import LogisticRegression\n",
    "from sklearn.model_selection import train_test_split\n",
    "from sklearn.metrics import accuracy_score\n",
    "from sklearn.model_selection import GridSearchCV"
   ]
  },
  {
   "cell_type": "code",
   "execution_count": 4,
   "id": "41d59162-0b59-45de-b359-41b2ca021d47",
   "metadata": {},
   "outputs": [
    {
     "name": "stdout",
     "output_type": "stream",
     "text": [
      "<bound method NDFrame.head of      PassengerId  Survived  Pclass  \\\n",
      "0              1         0       3   \n",
      "1              2         1       1   \n",
      "2              3         1       3   \n",
      "3              4         1       1   \n",
      "4              5         0       3   \n",
      "..           ...       ...     ...   \n",
      "886          887         0       2   \n",
      "887          888         1       1   \n",
      "888          889         0       3   \n",
      "889          890         1       1   \n",
      "890          891         0       3   \n",
      "\n",
      "                                                  Name     Sex   Age  SibSp  \\\n",
      "0                              Braund, Mr. Owen Harris    male  22.0      1   \n",
      "1    Cumings, Mrs. John Bradley (Florence Briggs Th...  female  38.0      1   \n",
      "2                               Heikkinen, Miss. Laina  female  26.0      0   \n",
      "3         Futrelle, Mrs. Jacques Heath (Lily May Peel)  female  35.0      1   \n",
      "4                             Allen, Mr. William Henry    male  35.0      0   \n",
      "..                                                 ...     ...   ...    ...   \n",
      "886                              Montvila, Rev. Juozas    male  27.0      0   \n",
      "887                       Graham, Miss. Margaret Edith  female  19.0      0   \n",
      "888           Johnston, Miss. Catherine Helen \"Carrie\"  female   NaN      1   \n",
      "889                              Behr, Mr. Karl Howell    male  26.0      0   \n",
      "890                                Dooley, Mr. Patrick    male  32.0      0   \n",
      "\n",
      "     Parch            Ticket     Fare Cabin Embarked  \n",
      "0        0         A/5 21171   7.2500   NaN        S  \n",
      "1        0          PC 17599  71.2833   C85        C  \n",
      "2        0  STON/O2. 3101282   7.9250   NaN        S  \n",
      "3        0            113803  53.1000  C123        S  \n",
      "4        0            373450   8.0500   NaN        S  \n",
      "..     ...               ...      ...   ...      ...  \n",
      "886      0            211536  13.0000   NaN        S  \n",
      "887      0            112053  30.0000   B42        S  \n",
      "888      2        W./C. 6607  23.4500   NaN        S  \n",
      "889      0            111369  30.0000  C148        C  \n",
      "890      0            370376   7.7500   NaN        Q  \n",
      "\n",
      "[891 rows x 12 columns]>\n"
     ]
    }
   ],
   "source": [
    "# Download latest version\n",
    "path = kagglehub.dataset_download(\"saddasdaasda/httpswww-kaggle-comctitanicdata\")\n",
    "# Ensure path points to a specific file\n",
    "if os.path.isdir(path):\n",
    "    # Assuming the dataset contains a single CSV file\n",
    "    files = [f for f in os.listdir(path) if f.endswith('.csv')]\n",
    "    if files:\n",
    "        path = os.path.join(path, files[0])\n",
    "    else:\n",
    "        raise FileNotFoundError(\"No CSV file found in the dataset directory.\")\n",
    "\n",
    "# load dataset into pandas dataframe\n",
    "df = pd.read_csv(path)\n",
    "print(df.head())"
   ]
  },
  {
   "cell_type": "code",
   "execution_count": 4,
   "id": "6829b399-94dd-4274-a46a-995c82e6c885",
   "metadata": {},
   "outputs": [],
   "source": [
    "imputer = SimpleImputer(strategy='mean')\n",
    "df['Age'] = imputer.fit_transform(df[['Age']])\n",
    "\n",
    "# remove Columns [PassengerId, Name , Ticket]\n",
    "df.drop(['PassengerId', 'Name', 'Ticket'], axis=1, inplace=True)\n",
    "\n",
    "# make label Encoding for Embarked Column\n",
    "df['Embarked'] = df['Embarked'].astype('category').cat.codes\n",
    "\n",
    "# make label Encoding for Sex Column\n",
    "df['Sex'] = df['Sex'].astype('category').cat.codes\n",
    "\n",
    "# Handle Cabin column: fill missing values and encode as category\n",
    "df['Cabin'] = df['Cabin'].fillna('Unknown').astype('category').cat.codes"
   ]
  },
  {
   "cell_type": "code",
   "execution_count": 5,
   "id": "8ba03ab5-847a-4737-9962-af272219661f",
   "metadata": {},
   "outputs": [],
   "source": [
    "# split data into train and test\n",
    "X = df.drop('Survived', axis=1)\n",
    "y = df['Survived']\n",
    "X_train, X_test, y_train, y_test = train_test_split(X, y, test_size=0.2, random_state=42)"
   ]
  },
  {
   "cell_type": "code",
   "execution_count": 6,
   "id": "3932d2e1-bcd9-4bbb-bce9-b00701f7158e",
   "metadata": {},
   "outputs": [],
   "source": [
    "# Define models to compare\n",
    "models = {\n",
    "    'RandomForest': RandomForestClassifier(),\n",
    "    'LogisticRegression': LogisticRegression(max_iter=1000)\n",
    "}\n",
    "\n",
    "# Define hyperparameter grids\n",
    "param_grids = {\n",
    "    'RandomForest': {\n",
    "        'model__n_estimators': [50, 100, 200],\n",
    "        'model__max_depth': [None, 10, 20],\n",
    "        'model__min_samples_split': [2, 5, 10]\n",
    "    },\n",
    "    'LogisticRegression': {\n",
    "        'model__C': [0.1, 1, 10],\n",
    "        'model__solver': ['lbfgs', 'liblinear']\n",
    "    }\n",
    "}"
   ]
  },
  {
   "cell_type": "code",
   "execution_count": 7,
   "id": "bbf28d31-b415-4bdb-893d-a401615e3a1b",
   "metadata": {},
   "outputs": [
    {
     "name": "stdout",
     "output_type": "stream",
     "text": [
      "Tuning hyperparameters for RandomForest...\n",
      "RandomForest Best Parameters: {'model__max_depth': None, 'model__min_samples_split': 10, 'model__n_estimators': 50}\n",
      "RandomForest Accuracy after tuning: 0.8268156424581006\n",
      "Sample Input:      Pclass  Sex   Age  SibSp  Parch  Fare  Cabin  Embarked\n",
      "492       1    1  55.0      0      0  30.5     64         2\n",
      "RandomForest Prediction: [0]\n",
      "Tuning hyperparameters for LogisticRegression...\n",
      "LogisticRegression Best Parameters: {'model__C': 0.1, 'model__solver': 'liblinear'}\n",
      "LogisticRegression Accuracy after tuning: 0.7821229050279329\n",
      "Sample Input:     Pclass  Sex  Age  SibSp  Parch     Fare  Cabin  Embarked\n",
      "43       2    0  3.0      1      2  41.5792    147         0\n",
      "LogisticRegression Prediction: [1]\n"
     ]
    }
   ],
   "source": [
    "# Perform hyperparameter tuning and compare models\n",
    "for model_name, model in models.items():\n",
    "    print(f\"Tuning hyperparameters for {model_name}...\")\n",
    "    pipeline = Pipeline([\n",
    "        ('model', model)\n",
    "    ])\n",
    "    grid_search = GridSearchCV(pipeline, param_grids[model_name], cv=5, scoring='accuracy', n_jobs=-1)\n",
    "    grid_search.fit(X_train, y_train)\n",
    "    \n",
    "    best_model = grid_search.best_estimator_\n",
    "    y_pred = best_model.predict(X_test)\n",
    "    accuracy = accuracy_score(y_test, y_pred)\n",
    "    print(f\"{model_name} Best Parameters: {grid_search.best_params_}\")\n",
    "    print(f\"{model_name} Accuracy after tuning: {accuracy}\")\n",
    "\n",
    "    # Test with sample input\n",
    "    sample_input = X_train.sample(1)\n",
    "    print(f\"Sample Input: {sample_input}\")\n",
    "    print(f\"{model_name} Prediction: {best_model.predict(sample_input)}\")"
   ]
  },
  {
   "cell_type": "code",
   "execution_count": null,
   "id": "a3e22333-2472-428c-95a3-d04f3ddd1ed8",
   "metadata": {},
   "outputs": [],
   "source": []
  }
 ],
 "metadata": {
  "kernelspec": {
   "display_name": "Python 3 (ipykernel)",
   "language": "python",
   "name": "python3"
  },
  "language_info": {
   "codemirror_mode": {
    "name": "ipython",
    "version": 3
   },
   "file_extension": ".py",
   "mimetype": "text/x-python",
   "name": "python",
   "nbconvert_exporter": "python",
   "pygments_lexer": "ipython3",
   "version": "3.13.0"
  }
 },
 "nbformat": 4,
 "nbformat_minor": 5
}
